{
 "cells": [
  {
   "cell_type": "code",
   "execution_count": 8,
   "metadata": {},
   "outputs": [],
   "source": [
    "def affine_gap_alignment(seq1, seq2, weight_match, weight_mismatch, open_gap_penalty, continue_gap_penalty):\n",
    "    n = len(seq1)\n",
    "    m = len(seq2)\n",
    "    \n",
    "    def create_M():\n",
    "        M = [[0 for _ in range(n + 1)] for _ in range(m + 1)]\n",
    "\n",
    "        M[0] = [open_gap_penalty + i * continue_gap_penalty for i in range(n + 1)]\n",
    "\n",
    "        for j in range(m + 1):\n",
    "            M[j][0] = open_gap_penalty + j * continue_gap_penalty\n",
    "\n",
    "        M[0][0] = 0\n",
    "        \n",
    "        return M\n",
    "    \n",
    "    M_main = create_M()\n",
    "    M_low = create_M()\n",
    "    M_up = create_M()\n",
    "\n",
    "    for i in range(1, m + 1):  # seq2\n",
    "        for j in range(1, n + 1):  # seq1        \n",
    "            def seq_match(a, b):\n",
    "                if a == b:\n",
    "                    return weight_match\n",
    "                else:\n",
    "                    return weight_mismatch\n",
    "            \n",
    "            s1_up = M_up[i-1][j] + continue_gap_penalty\n",
    "            s2_up = M_main[i-1][j] + open_gap_penalty + continue_gap_penalty\n",
    "            \n",
    "            M_up[i][j] = max(s1_up, s2_up)\n",
    "            \n",
    "            s1_low = M_low[i][j-1] + continue_gap_penalty\n",
    "            s2_low = M_main[i][j-1] + open_gap_penalty + continue_gap_penalty\n",
    "            \n",
    "            M_low[i][j] = max(s1_low, s2_low)\n",
    "            \n",
    "            s1 = M_main[i-1][j-1] + seq_match(seq1[j - 1], seq2[i - 1])\n",
    "            s2 = M_up[i][j]\n",
    "            s3 = M_low[i][j]\n",
    "            \n",
    "            s = max(max(s1, s2), s3)\n",
    "            M_main[i][j] = s\n",
    "    \n",
    "    seq_new1 = ''\n",
    "    seq_new2 = ''\n",
    "\n",
    "    cur_i = m\n",
    "    cur_j = n\n",
    "\n",
    "    while cur_i > 0 or cur_j > 0:\n",
    "        if M_main[cur_i - 1][cur_j - 1] >= M_main[cur_i][cur_j - 1] and M_main[cur_i - 1][cur_j - 1] >= M_main[cur_i - 1][cur_j]:\n",
    "            seq_new1 = seq1[cur_j - 1] + seq_new1\n",
    "            seq_new2 = seq2[cur_i - 1] + seq_new2\n",
    "            cur_i = cur_i - 1\n",
    "            cur_j = cur_j - 1\n",
    "        elif M_main[cur_i][cur_j - 1] > M_main[cur_i - 1][cur_j - 1] and M_main[cur_i][cur_j - 1] > M_main[cur_i - 1][cur_j]:\n",
    "            seq_new1 = seq1[cur_j - 1] + seq_new1\n",
    "            seq_new2 = '_' + seq_new2\n",
    "            cur_j = cur_j - 1\n",
    "        elif M_main[cur_i - 1][cur_j] > M_main[cur_i - 1][cur_j - 1] and M_main[cur_i - 1][cur_j] > M_main[cur_i][cur_j - 1]:\n",
    "            seq_new1 = '_' + seq_new1\n",
    "            seq_new2 = seq2[cur_i - 1] + seq_new2\n",
    "            cur_i = cur_i - 1\n",
    "\n",
    "    print(seq_new1, seq_new2, sep='\\n')"
   ]
  },
  {
   "cell_type": "markdown",
   "metadata": {},
   "source": [
    "Сравним два варианта штрафов за открытие и продолжение гэпа"
   ]
  },
  {
   "cell_type": "code",
   "execution_count": 11,
   "metadata": {},
   "outputs": [
    {
     "name": "stdout",
     "output_type": "stream",
     "text": [
      "a_ctgagggac___g\n",
      "agct_a____ctac_\n"
     ]
    }
   ],
   "source": [
    "sequence1, sequence2 = 'actgagggacg agctactac'.split()\n",
    "\n",
    "affine_gap_alignment(sequence1, sequence2, 3, -3, -2, -1)"
   ]
  },
  {
   "cell_type": "code",
   "execution_count": 12,
   "metadata": {},
   "outputs": [
    {
     "name": "stdout",
     "output_type": "stream",
     "text": [
      "a_ctgagggacg\n",
      "agct_a_ctac_\n"
     ]
    }
   ],
   "source": [
    "affine_gap_alignment(sequence1, sequence2, 3, -3, 0, -2)"
   ]
  },
  {
   "cell_type": "code",
   "execution_count": null,
   "metadata": {},
   "outputs": [],
   "source": []
  }
 ],
 "metadata": {
  "kernelspec": {
   "display_name": "Python 3",
   "language": "python",
   "name": "python3"
  },
  "language_info": {
   "codemirror_mode": {
    "name": "ipython",
    "version": 3
   },
   "file_extension": ".py",
   "mimetype": "text/x-python",
   "name": "python",
   "nbconvert_exporter": "python",
   "pygments_lexer": "ipython3",
   "version": "3.8.5"
  }
 },
 "nbformat": 4,
 "nbformat_minor": 4
}