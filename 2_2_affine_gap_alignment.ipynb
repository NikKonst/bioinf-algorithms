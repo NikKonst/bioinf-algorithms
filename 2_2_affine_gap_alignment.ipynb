{
 "cells": [
  {
   "cell_type": "code",
   "execution_count": 30,
   "metadata": {},
   "outputs": [],
   "source": [
    "def affine_gap_alignment(seq1, seq2, weight_match, weight_mismatch, open_gap_penalty, continue_gap_penalty):\n",
    "    n = len(seq1)\n",
    "    m = len(seq2)\n",
    "\n",
    "    M_main = [[0 for _ in range(n + 1)] for _ in range(m + 1)]\n",
    "\n",
    "    M_main[0] = [open_gap_penalty + i * continue_gap_penalty for i in range(n + 1)]\n",
    "\n",
    "    for j in range(m + 1):\n",
    "        M_main[j][0] = open_gap_penalty + j * continue_gap_penalty\n",
    "    \n",
    "    M_main[0][0] = 0\n",
    "    \n",
    "    M_low = M_main.copy()\n",
    "    M_up = M_main.copy()\n",
    "\n",
    "    for i in range(1, m + 1):  # seq2\n",
    "        for j in range(1, n + 1):  # seq1        \n",
    "            def seq_match(a, b):\n",
    "                if a == b:\n",
    "                    return weight_match\n",
    "                else:\n",
    "                    return weight_mismatch\n",
    "            \n",
    "            s1_up = M_up[i-1][j] + continue_gap_penalty\n",
    "            s2_up = M_main[i-1][j] + open_gap_penalty + continue_gap_penalty\n",
    "            \n",
    "            M_up[i][j] = max(s1_up, s2_up)\n",
    "            \n",
    "            s1_low = M_low[i][j-1] + continue_gap_penalty\n",
    "            s2_low = M_main[i][j-1] + open_gap_penalty + continue_gap_penalty\n",
    "            \n",
    "            M_low[i][j] = max(s1_low, s2_low)\n",
    "            \n",
    "            s1 = M_main[i-1][j-1] + seq_match(seq1[j - 1], seq2[i - 1])\n",
    "            s2 = M_up[i][j]\n",
    "            s3 = M_low[i][j]\n",
    "            \n",
    "            s = max(max(s1, s2), s3)\n",
    "            M_main[i][j] = s\n",
    "    \n",
    "    seq_new1 = ''\n",
    "    seq_new2 = ''\n",
    "\n",
    "    cur_i = m\n",
    "    cur_j = n\n",
    "\n",
    "    while cur_i > 0 or cur_j > 0:\n",
    "        if M_main[cur_i - 1][cur_j - 1] >= M_low[cur_i][cur_j - 1] and M_main[cur_i - 1][cur_j - 1] >= M_up[cur_i - 1][cur_j]:\n",
    "            seq_new1 = seq1[cur_j - 1] + seq_new1\n",
    "            seq_new2 = seq2[cur_i - 1] + seq_new2\n",
    "            cur_i = cur_i - 1\n",
    "            cur_j = cur_j - 1\n",
    "        elif M_low[cur_i][cur_j - 1] > M_main[cur_i - 1][cur_j - 1] and M_low[cur_i][cur_j - 1] > M_up[cur_i - 1][cur_j]:\n",
    "            seq_new1 = seq1[cur_j - 1] + seq_new1\n",
    "            seq_new2 = '_' + seq_new2\n",
    "            cur_j = cur_j - 1\n",
    "        elif M_up[cur_i - 1][cur_j] > M_main[cur_i - 1][cur_j - 1] and M_up[cur_i - 1][cur_j] > M_low[cur_i][cur_j - 1]:\n",
    "            seq_new1 = '_' + seq_new1\n",
    "            seq_new2 = seq2[cur_i - 1] + seq_new2\n",
    "            cur_i = cur_i - 1\n",
    "\n",
    "    print(seq_new1, seq_new2)"
   ]
  },
  {
   "cell_type": "code",
   "execution_count": 32,
   "metadata": {},
   "outputs": [
    {
     "data": {
      "text/plain": [
       "([[0, -3, -4, -5, -6, -7, -8, -9],\n",
       "  [-3, 3, 2, 1, 0, -1, -2, -3],\n",
       "  [-4, -5, 0, -1, 4, 3, 2, 1],\n",
       "  [-5, -6, -2, -3, -4, 1, 0, -1],\n",
       "  [-6, -7, -8, 1, 0, -1, -2, 3],\n",
       "  [-7, -3, -4, -5, -2, 3, 2, 1],\n",
       "  [-8, -9, 0, -1, -2, -3, 0, -1],\n",
       "  [-9, -10, -11, 3, 2, 1, 0, 3]],\n",
       " [[0, -3, -4, -5, -6, -7, -8, -9],\n",
       "  [-3, 3, 2, 1, 0, -1, -2, -3],\n",
       "  [-4, -5, 0, -1, 4, 3, 2, 1],\n",
       "  [-5, -6, -2, -3, -4, 1, 0, -1],\n",
       "  [-6, -7, -8, 1, 0, -1, -2, 3],\n",
       "  [-7, -3, -4, -5, -2, 3, 2, 1],\n",
       "  [-8, -9, 0, -1, -2, -3, 0, -1],\n",
       "  [-9, -10, -11, 3, 2, 1, 0, 3]],\n",
       " [[0, -3, -4, -5, -6, -7, -8, -9],\n",
       "  [-3, 3, 2, 1, 0, -1, -2, -3],\n",
       "  [-4, -5, 0, -1, 4, 3, 2, 1],\n",
       "  [-5, -6, -2, -3, -4, 1, 0, -1],\n",
       "  [-6, -7, -8, 1, 0, -1, -2, 3],\n",
       "  [-7, -3, -4, -5, -2, 3, 2, 1],\n",
       "  [-8, -9, 0, -1, -2, -3, 0, -1],\n",
       "  [-9, -10, -11, 3, 2, 1, 0, 3]])"
      ]
     },
     "execution_count": 32,
     "metadata": {},
     "output_type": "execute_result"
    }
   ],
   "source": [
    "sequence1, sequence2 = 'actgagt agctact'.split()\n",
    "\n",
    "affine_gap_alignment(sequence1, sequence2, 3, -3, -2, -1)"
   ]
  },
  {
   "cell_type": "code",
   "execution_count": 27,
   "metadata": {},
   "outputs": [
    {
     "data": {
      "text/plain": [
       "[[0, -3, -4, -5, -6, -7, -8],\n",
       " [22, 0, 0, 0, 0, 0, 0],\n",
       " [-4, 0, 0, 0, 0, 0, 0],\n",
       " [-5, 0, 0, 0, 0, 0, 0],\n",
       " [-6, 0, 0, 0, 0, 0, 0],\n",
       " [-7, 0, 0, 0, 0, 0, 0],\n",
       " [-8, 0, 0, 0, 0, 0, 0],\n",
       " [-9, 0, 0, 0, 0, 0, 0]]"
      ]
     },
     "execution_count": 27,
     "metadata": {},
     "output_type": "execute_result"
    }
   ],
   "source": [
    "MM[1][0] = 22\n",
    "MM"
   ]
  },
  {
   "cell_type": "code",
   "execution_count": null,
   "metadata": {},
   "outputs": [],
   "source": [
    "[[0, 0, 0, 0, 0, 0],\n",
    " [0, 0, 0, 0, 0, 0],\n",
    " [0, 0, 0, 0, 0, 0],\n",
    " [0, 0, 0, 0, 0, 0],\n",
    " [0, 0, 0, 0, 0, 0],\n",
    " [0, 0, 0, 0, 0, 0],\n",
    " [0, 0, 0, 0, 0, 0]]"
   ]
  },
  {
   "cell_type": "code",
   "execution_count": null,
   "metadata": {},
   "outputs": [],
   "source": []
  },
  {
   "cell_type": "code",
   "execution_count": null,
   "metadata": {},
   "outputs": [],
   "source": [
    "ind = {'a': 0,\n",
    "            't': 1,\n",
    "            'g': 2,\n",
    "            'c': 3,\n",
    "            '_': 4,}\n",
    "\n",
    "# weight matrix\n",
    "\n",
    "W = [[ 1, -1, -1, -1, -1],\n",
    "     [-1,  1, -1, -1, -1],\n",
    "     [-1, -1,  1, -1, -1],\n",
    "     [-1, -1, -1,  1, -1],\n",
    "     [-1, -1, -1, -1,  1],]"
   ]
  },
  {
   "cell_type": "code",
   "execution_count": null,
   "metadata": {},
   "outputs": [],
   "source": [
    "# global alignment for comparison\n",
    "\n",
    "def global_alignment(seq1, seq2):\n",
    "    n = len(seq1)\n",
    "    m = len(seq2)\n",
    "\n",
    "    M = [[0 for _ in range(n + 1)] for _ in range(m + 1)]\n",
    "\n",
    "    M[0] = [-i for i in range(n + 1)]\n",
    "\n",
    "    for j in range(m + 1):\n",
    "        M[j][0] = -j\n",
    "\n",
    "    for i in range(1, m + 1):  # seq2\n",
    "        for j in range(1, n + 1):  # seq1        \n",
    "\n",
    "            s1 = M[i-1][j-1] + W[ind[seq2[i - 1]]][ind[seq1[j - 1]]]\n",
    "            s2 = M[i-1][j] + W[ind[seq2[i - 1]]][ind['_']]\n",
    "            s3 = M[i][j-1] + W[ind['_']][ind[seq1[j - 1]]]\n",
    "\n",
    "            s = max(max(s1, s2), s3)\n",
    "            M[i][j] = s\n",
    "\n",
    "    seq_new1 = ''\n",
    "    seq_new2 = ''\n",
    "\n",
    "    cur_i = m\n",
    "    cur_j = n\n",
    "\n",
    "    while cur_i > 0 or cur_j > 0:\n",
    "        if M[cur_i - 1][cur_j - 1] >= M[cur_i][cur_j - 1] and M[cur_i - 1][cur_j - 1] >= M[cur_i - 1][cur_j]:\n",
    "            seq_new1 = seq1[cur_j - 1] + seq_new1\n",
    "            seq_new2 = seq2[cur_i - 1] + seq_new2\n",
    "            cur_i = cur_i - 1\n",
    "            cur_j = cur_j - 1\n",
    "        elif M[cur_i][cur_j - 1] > M[cur_i - 1][cur_j - 1] and M[cur_i][cur_j - 1] > M[cur_i - 1][cur_j]:\n",
    "            seq_new1 = seq1[cur_j - 1] + seq_new1\n",
    "            seq_new2 = '_' + seq_new2\n",
    "            cur_j = cur_j - 1\n",
    "        elif M[cur_i - 1][cur_j] > M[cur_i - 1][cur_j - 1] and M[cur_i - 1][cur_j] > M[cur_i][cur_j - 1]:\n",
    "            seq_new1 = '_' + seq_new1\n",
    "            seq_new2 = seq2[cur_i - 1] + seq_new2\n",
    "            cur_i = cur_i - 1\n",
    "\n",
    "    print(seq_new1, seq_new2, sep='\\n')"
   ]
  }
 ],
 "metadata": {
  "kernelspec": {
   "display_name": "Python 3",
   "language": "python",
   "name": "python3"
  },
  "language_info": {
   "codemirror_mode": {
    "name": "ipython",
    "version": 3
   },
   "file_extension": ".py",
   "mimetype": "text/x-python",
   "name": "python",
   "nbconvert_exporter": "python",
   "pygments_lexer": "ipython3",
   "version": "3.8.5"
  }
 },
 "nbformat": 4,
 "nbformat_minor": 4
}
