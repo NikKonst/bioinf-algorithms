{
 "cells": [
  {
   "cell_type": "code",
   "execution_count": 168,
   "metadata": {},
   "outputs": [],
   "source": [
    "ind = {'a': 0,\n",
    "            't': 1,\n",
    "            'g': 2,\n",
    "            'c': 3,\n",
    "            '_': 4,}\n",
    "\n",
    "# weight matrix\n",
    "\n",
    "W = [[ 1, -1, -1, -1, -1],\n",
    "     [-1,  1, -1, -1, -1],\n",
    "     [-1, -1,  1, -1, -1],\n",
    "     [-1, -1, -1,  1, -1],\n",
    "     [-1, -1, -1, -1,  1],]"
   ]
  },
  {
   "cell_type": "code",
   "execution_count": 169,
   "metadata": {},
   "outputs": [],
   "source": [
    "def local_alignment(seq1, seq2):\n",
    "    n = len(seq1)\n",
    "    m = len(seq2)\n",
    "\n",
    "    M = [[0 for _ in range(n + 1)] for _ in range(m + 1)]\n",
    "\n",
    "    M[0] = [0 for i in range(n + 1)]\n",
    "\n",
    "    for j in range(m + 1):\n",
    "        M[j][0] = 0\n",
    "    \n",
    "    max_val = None\n",
    "    max_i = None\n",
    "    max_j = None\n",
    "\n",
    "    for i in range(1, m + 1):  # seq2\n",
    "        for j in range(1, n + 1):  # seq1        \n",
    "\n",
    "            s1 = M[i-1][j-1] + W[ind[seq2[i - 1]]][ind[seq1[j - 1]]]\n",
    "            s2 = M[i-1][j] + W[ind[seq2[i - 1]]][ind['_']]\n",
    "            s3 = M[i][j-1] + W[ind['_']][ind[seq1[j - 1]]]\n",
    "\n",
    "            s = max(max(max(s1, s2), s3), 0)\n",
    "            M[i][j] = s\n",
    "            \n",
    "            if max_val is None or s >= max_val:\n",
    "                max_val = s\n",
    "                max_i = i\n",
    "                max_j = j\n",
    "    \n",
    "    seq_new1 = ''\n",
    "    seq_new2 = ''\n",
    "    \n",
    "    cur_i = max_i\n",
    "    cur_j = max_j\n",
    "    \n",
    "    while M[cur_i][cur_j] != 0:\n",
    "        if M[cur_i - 1][cur_j - 1] >= M[cur_i][cur_j - 1] and M[cur_i - 1][cur_j - 1] >= M[cur_i - 1][cur_j]:\n",
    "            seq_new1 = seq1[cur_j - 1] + seq_new1\n",
    "            seq_new2 = seq2[cur_i - 1] + seq_new2\n",
    "            cur_i = cur_i - 1\n",
    "            cur_j = cur_j - 1\n",
    "        elif M[cur_i][cur_j - 1] > M[cur_i - 1][cur_j - 1] and M[cur_i][cur_j - 1] > M[cur_i - 1][cur_j]:\n",
    "            seq_new1 = seq1[cur_j - 1] + seq_new1\n",
    "            seq_new2 = '_' + seq_new2\n",
    "            cur_j = cur_j - 1\n",
    "        elif M[cur_i - 1][cur_j] > M[cur_i - 1][cur_j - 1] and M[cur_i - 1][cur_j] > M[cur_i][cur_j - 1]:\n",
    "            seq_new1 = '_' + seq_new1\n",
    "            seq_new2 = seq2[cur_i - 1] + seq_new2\n",
    "            cur_i = cur_i - 1\n",
    "    \n",
    "    gap_pre_1 = ''\n",
    "    gap_pre_2 = ''\n",
    "    gap_post_1 = ''\n",
    "    gap_post_2 = ''\n",
    "    \n",
    "    if cur_j > cur_i:\n",
    "        gap_pre_2 = '-' * (cur_j - cur_i)\n",
    "    elif cur_i > cur_j:\n",
    "        gap_pre_1 = '-' * (cur_i - cur_j)\n",
    "            \n",
    "    if len(seq1) - max_j > len(seq2) - max_i:\n",
    "        gap_post_2 = '-' * ((len(seq1) - max_j) - (len(seq2) - max_i))\n",
    "    elif len(seq2) - max_i > len(seq1) - max_j:\n",
    "        gap_post_1 = '-' * ((len(seq2) - max_i) - (len(seq1) - max_j))\n",
    "        \n",
    "    seq_new1 = gap_pre_1 + seq1[:cur_j] + '|' + seq_new1 + '|' + seq1[max_j:] + gap_post_1\n",
    "    seq_new2 = gap_pre_2 + seq2[:cur_i] + '|' + seq_new2 + '|' + seq2[max_i:] + gap_post_2\n",
    "    \n",
    "    print(seq_new1, seq_new2, sep='\\n')"
   ]
  },
  {
   "cell_type": "code",
   "execution_count": 170,
   "metadata": {},
   "outputs": [
    {
     "name": "stdout",
     "output_type": "stream",
     "text": [
      "----|act|gag\n",
      "agct|act|---\n"
     ]
    }
   ],
   "source": [
    "sequence1, sequence2 = 'actgag agctact'.split()\n",
    "\n",
    "local_alignment(sequence1, sequence2)"
   ]
  },
  {
   "cell_type": "markdown",
   "metadata": {},
   "source": [
    "Здесь вертикальными линиями выделяем участок локального выравнивания для наглядности"
   ]
  },
  {
   "cell_type": "markdown",
   "metadata": {},
   "source": [
    "Теперь проверим тоже самое для глобального выравнивания"
   ]
  },
  {
   "cell_type": "code",
   "execution_count": 171,
   "metadata": {},
   "outputs": [],
   "source": [
    "# global alignment for comparison\n",
    "\n",
    "def global_alignment(seq1, seq2):\n",
    "    n = len(seq1)\n",
    "    m = len(seq2)\n",
    "\n",
    "    M = [[0 for _ in range(n + 1)] for _ in range(m + 1)]\n",
    "\n",
    "    M[0] = [-i for i in range(n + 1)]\n",
    "\n",
    "    for j in range(m + 1):\n",
    "        M[j][0] = -j\n",
    "\n",
    "    for i in range(1, m + 1):  # seq2\n",
    "        for j in range(1, n + 1):  # seq1        \n",
    "\n",
    "            s1 = M[i-1][j-1] + W[ind[seq2[i - 1]]][ind[seq1[j - 1]]]\n",
    "            s2 = M[i-1][j] + W[ind[seq2[i - 1]]][ind['_']]\n",
    "            s3 = M[i][j-1] + W[ind['_']][ind[seq1[j - 1]]]\n",
    "\n",
    "            s = max(max(s1, s2), s3)\n",
    "            M[i][j] = s\n",
    "\n",
    "    seq_new1 = ''\n",
    "    seq_new2 = ''\n",
    "\n",
    "    cur_i = m\n",
    "    cur_j = n\n",
    "\n",
    "    while cur_i > 0 or cur_j > 0:\n",
    "        if M[cur_i - 1][cur_j - 1] >= M[cur_i][cur_j - 1] and M[cur_i - 1][cur_j - 1] >= M[cur_i - 1][cur_j]:\n",
    "            seq_new1 = seq1[cur_j - 1] + seq_new1\n",
    "            seq_new2 = seq2[cur_i - 1] + seq_new2\n",
    "            cur_i = cur_i - 1\n",
    "            cur_j = cur_j - 1\n",
    "        elif M[cur_i][cur_j - 1] > M[cur_i - 1][cur_j - 1] and M[cur_i][cur_j - 1] > M[cur_i - 1][cur_j]:\n",
    "            seq_new1 = seq1[cur_j - 1] + seq_new1\n",
    "            seq_new2 = '_' + seq_new2\n",
    "            cur_j = cur_j - 1\n",
    "        elif M[cur_i - 1][cur_j] > M[cur_i - 1][cur_j - 1] and M[cur_i - 1][cur_j] > M[cur_i][cur_j - 1]:\n",
    "            seq_new1 = '_' + seq_new1\n",
    "            seq_new2 = seq2[cur_i - 1] + seq_new2\n",
    "            cur_i = cur_i - 1\n",
    "\n",
    "    print(seq_new1, seq_new2, sep='\\n')"
   ]
  },
  {
   "cell_type": "code",
   "execution_count": 172,
   "metadata": {},
   "outputs": [
    {
     "name": "stdout",
     "output_type": "stream",
     "text": [
      "a_ctga_g\n",
      "agct_act\n"
     ]
    }
   ],
   "source": [
    "global_alignment(sequence1, sequence2)"
   ]
  },
  {
   "cell_type": "markdown",
   "metadata": {},
   "source": [
    "Участок локального выравнивания:\n",
    "\n",
    "act\n",
    "\n",
    "act\n",
    "\n",
    "У глобального отличается"
   ]
  },
  {
   "cell_type": "code",
   "execution_count": null,
   "metadata": {},
   "outputs": [],
   "source": []
  }
 ],
 "metadata": {
  "kernelspec": {
   "display_name": "Python 3",
   "language": "python",
   "name": "python3"
  },
  "language_info": {
   "codemirror_mode": {
    "name": "ipython",
    "version": 3
   },
   "file_extension": ".py",
   "mimetype": "text/x-python",
   "name": "python",
   "nbconvert_exporter": "python",
   "pygments_lexer": "ipython3",
   "version": "3.8.6"
  }
 },
 "nbformat": 4,
 "nbformat_minor": 1
}