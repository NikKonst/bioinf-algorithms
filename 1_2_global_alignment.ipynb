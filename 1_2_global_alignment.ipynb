{
 "cells": [
  {
   "cell_type": "code",
   "execution_count": 54,
   "metadata": {},
   "outputs": [
    {
     "name": "stdout",
     "output_type": "stream",
     "text": [
      "abcdef ab_dgf\n"
     ]
    }
   ],
   "source": [
    "seq1, seq2 = input().split()\n",
    "# seq1, seq2 = 'abcdef abdgf'.split()\n",
    "\n",
    "match = 1\n",
    "gap = -1\n",
    "miss = -1\n",
    "\n",
    "n = len(seq1)\n",
    "m = len(seq2)\n",
    "\n",
    "M = [[0 for _ in range(n + 1)] for _ in range(m + 1)]\n",
    "\n",
    "M[0] = [-i for i in range(n + 1)]\n",
    "\n",
    "for j in range(m + 1):\n",
    "    M[j][0] = -j\n",
    "\n",
    "for i in range(1, m + 1):  # seq2\n",
    "    for j in range(1, n + 1):  # seq1        \n",
    "        def seq_match(a, b):\n",
    "            if a == b:\n",
    "                return match\n",
    "            else:\n",
    "                return miss\n",
    "        \n",
    "        s1 = M[i-1][j-1] + seq_match(seq1[j - 1], seq2[i - 1])\n",
    "        s2 = M[i-1][j] + gap\n",
    "        s3 = M[i][j-1] + gap\n",
    "        \n",
    "        s = max(max(s1, s2), s3)\n",
    "        M[i][j] = s\n",
    "\n",
    "seq_new1 = ''\n",
    "seq_new2 = ''\n",
    "\n",
    "cur_i = m\n",
    "cur_j = n\n",
    "\n",
    "while cur_i > 0 or cur_j > 0:\n",
    "    if M[cur_i - 1][cur_j - 1] >= M[cur_i][cur_j - 1] and M[cur_i - 1][cur_j - 1] >= M[cur_i - 1][cur_j]:\n",
    "        seq_new1 = seq1[cur_j - 1] + seq_new1\n",
    "        seq_new2 = seq2[cur_i - 1] + seq_new2\n",
    "        cur_i = cur_i - 1\n",
    "        cur_j = cur_j - 1\n",
    "    elif M[cur_i][cur_j - 1] > M[cur_i - 1][cur_j - 1] and M[cur_i][cur_j - 1] > M[cur_i - 1][cur_j]:\n",
    "        seq_new1 = seq1[cur_j - 1] + seq_new1\n",
    "        seq_new2 = '_' + seq_new2\n",
    "        cur_j = cur_j - 1\n",
    "    elif M[cur_i - 1][cur_j] > M[cur_i - 1][cur_j - 1] and M[cur_i - 1][cur_j] > M[cur_i][cur_j - 1]:\n",
    "        seq_new1 = '_' + seq_new1\n",
    "        seq_new2 = seq2[cur_i - 1] + seq_new2\n",
    "        cur_i = cur_i - 1\n",
    "\n",
    "print(seq_new1, seq_new2)"
   ]
  }
 ],
 "metadata": {
  "kernelspec": {
   "display_name": "Python 3",
   "language": "python",
   "name": "python3"
  },
  "language_info": {
   "codemirror_mode": {
    "name": "ipython",
    "version": 3
   },
   "file_extension": ".py",
   "mimetype": "text/x-python",
   "name": "python",
   "nbconvert_exporter": "python",
   "pygments_lexer": "ipython3",
   "version": "3.8.5"
  }
 },
 "nbformat": 4,
 "nbformat_minor": 1
}