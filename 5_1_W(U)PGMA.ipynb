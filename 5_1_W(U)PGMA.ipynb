{
 "cells": [
  {
   "cell_type": "code",
   "execution_count": 157,
   "metadata": {},
   "outputs": [],
   "source": [
    "W = [\n",
    "    [[0, 16, 16, 10],\n",
    "     [0,  0,  8,  8],\n",
    "     [0,  0,  0,  4],\n",
    "     [0,  0,  0,  0]],\n",
    "    \n",
    "    [[0, 5, 4,  7, 6,  8],\n",
    "     [0, 0, 7, 10, 9, 11],\n",
    "     [0, 0, 0,  7, 6,  8],\n",
    "     [0, 0, 0,  0, 5,  9],\n",
    "     [0, 0, 0,  0, 0,  8],\n",
    "     [0, 0, 0,  0, 0,  0]],\n",
    "]\n",
    "\n",
    "N = [\n",
    "    'ABCD',\n",
    "    'ABCDEF',\n",
    "]"
   ]
  },
  {
   "cell_type": "markdown",
   "metadata": {},
   "source": [
    "# WPGMA"
   ]
  },
  {
   "cell_type": "code",
   "execution_count": 158,
   "metadata": {},
   "outputs": [],
   "source": [
    "class node:\n",
    "    name = ''\n",
    "    final = True\n",
    "    full_dist = 0\n",
    "    node_dist = 0\n",
    "    child_nodes = []\n",
    "    \n",
    "    def __init__(self, name, final=True, child_node_1=None, child_node_2=None, full_dist=0):\n",
    "        self.name = name\n",
    "        self.final = final\n",
    "        self.full_dist = full_dist\n",
    "        \n",
    "        if not final:\n",
    "            child_node_1.node_dist = self.full_dist - child_node_1.full_dist\n",
    "            child_node_2.node_dist = self.full_dist - child_node_2.full_dist\n",
    "            self.child_nodes = [child_node_1, child_node_2]\n",
    "    \n",
    "    def __str__(self):\n",
    "        if self.final:\n",
    "            return self.name + ':' + str(round(self.node_dist, 2))\n",
    "        else:\n",
    "            str_child_1 = str(self.child_nodes[0])\n",
    "            str_child_2 = str(self.child_nodes[1])\n",
    "            if self.node_dist != 0:\n",
    "                return '(' + str_child_1 + ',' + str_child_2 + '):' + str(round(self.node_dist, 2))\n",
    "            else:\n",
    "                return '(' + str_child_1 + ',' + str_child_2 + ')'\n",
    "\n",
    "def find_min(WM):\n",
    "    L = len(WM)\n",
    "    \n",
    "    cur_i = 0\n",
    "    cur_j = 1\n",
    "    cur_min = WM[cur_i][cur_j]\n",
    "\n",
    "    for i in range(L):\n",
    "        for j in range(i + 1, L):\n",
    "            if WM[i][j] < cur_min:\n",
    "                cur_i = i\n",
    "                cur_j = j\n",
    "                cur_min = WM[cur_i][cur_j]\n",
    "    return cur_i, cur_j, cur_min \n",
    "\n",
    "def WPGMA(weight_matrix, names):\n",
    "    res = [node(n) for n in names]\n",
    "\n",
    "    while len(weight_matrix) > 1:\n",
    "        i, j, r_min = find_min(weight_matrix)\n",
    "\n",
    "        full_dist = r_min / 2\n",
    "            \n",
    "        names[i] = names[i] + names[j]\n",
    "        names.pop(j)\n",
    "        \n",
    "        res[i] = node(names[i], False, res[i], res[j], full_dist)\n",
    "        res.pop(j)\n",
    "        \n",
    "        L = len(weight_matrix)\n",
    "                \n",
    "        # update i row\n",
    "        for k in range(i + 1, L):\n",
    "            if k != j:\n",
    "                \n",
    "                temp_w = 0\n",
    "                if k < j:\n",
    "                    temp_w = weight_matrix[k][j]\n",
    "                else:\n",
    "                    temp_w = weight_matrix[j][k]\n",
    "                                \n",
    "                weight_matrix[i][k] = (weight_matrix[i][k] + temp_w) / 2\n",
    "        \n",
    "        # update i column\n",
    "        for k in range(0, i):\n",
    "            weight_matrix[k][i] = (weight_matrix[k][i] + weight_matrix[k][j]) / 2\n",
    "        \n",
    "        for k in range(L):\n",
    "            weight_matrix[k].pop(j)\n",
    "        \n",
    "        weight_matrix.pop(j)\n",
    "    \n",
    "    print(res[0])\n",
    "\n",
    "def start_test(test):\n",
    "    names_test = [i for i in N[test]]\n",
    "    weight_matrix_test = [w.copy() for w in W[test]]\n",
    "\n",
    "    WPGMA(weight_matrix_test, names_test)"
   ]
  },
  {
   "cell_type": "markdown",
   "metadata": {},
   "source": [
    "Test 1."
   ]
  },
  {
   "cell_type": "code",
   "execution_count": 159,
   "metadata": {},
   "outputs": [
    {
     "name": "stdout",
     "output_type": "stream",
     "text": [
      "1\n",
      "(A:7.25,(B:4.0,(C:2.0,D:2.0):2.0):3.25)\n"
     ]
    }
   ],
   "source": [
    "test = int(input()) - 1\n",
    "start_test(test)"
   ]
  },
  {
   "cell_type": "markdown",
   "metadata": {},
   "source": [
    "Test 2."
   ]
  },
  {
   "cell_type": "code",
   "execution_count": 160,
   "metadata": {},
   "outputs": [
    {
     "name": "stdout",
     "output_type": "stream",
     "text": [
      "2\n",
      "((((A:2.0,C:2.0):1.0,B:3.0):1.0,(D:2.5,E:2.5):1.5):0.5,F:4.5)\n"
     ]
    }
   ],
   "source": [
    "test = int(input()) - 1\n",
    "start_test(test)"
   ]
  },
  {
   "cell_type": "markdown",
   "metadata": {},
   "source": [
    "# UPGMA"
   ]
  },
  {
   "cell_type": "code",
   "execution_count": 161,
   "metadata": {},
   "outputs": [],
   "source": [
    "class w_node:\n",
    "    name = ''\n",
    "    final = True\n",
    "    full_dist = 0\n",
    "    node_dist = 0\n",
    "    weight = 1\n",
    "    child_nodes = []\n",
    "    \n",
    "    def __init__(self, name, final=True, child_node_1=None, child_node_2=None, full_dist=0):\n",
    "        self.name = name\n",
    "        self.final = final\n",
    "        self.full_dist = full_dist\n",
    "        \n",
    "        if not final:\n",
    "            child_node_1.node_dist = self.full_dist - child_node_1.full_dist\n",
    "            child_node_2.node_dist = self.full_dist - child_node_2.full_dist\n",
    "            self.weight = child_node_1.weight + child_node_2.weight\n",
    "            self.child_nodes = [child_node_1, child_node_2]\n",
    "    \n",
    "    def __str__(self):\n",
    "        if self.final:\n",
    "            return self.name + ':' + str(round(self.node_dist, 2))\n",
    "        else:\n",
    "            str_child_1 = str(self.child_nodes[0])\n",
    "            str_child_2 = str(self.child_nodes[1])\n",
    "            if self.node_dist != 0:\n",
    "                return '(' + str_child_1 + ',' + str_child_2 + '):' + str(round(self.node_dist, 2))\n",
    "            else:\n",
    "                return '(' + str_child_1 + ',' + str_child_2 + ')'\n",
    "\n",
    "def find_min(WM):\n",
    "    L = len(WM)\n",
    "    \n",
    "    cur_i = 0\n",
    "    cur_j = 1\n",
    "    cur_min = WM[cur_i][cur_j]\n",
    "\n",
    "    for i in range(L):\n",
    "        for j in range(i + 1, L):\n",
    "            if WM[i][j] < cur_min:\n",
    "                cur_i = i\n",
    "                cur_j = j\n",
    "                cur_min = WM[cur_i][cur_j]\n",
    "    return cur_i, cur_j, cur_min \n",
    "\n",
    "def UPGMA(weight_matrix, names):\n",
    "    res = [w_node(n) for n in names]\n",
    "\n",
    "    while len(weight_matrix) > 1:\n",
    "        i, j, r_min = find_min(weight_matrix)\n",
    "\n",
    "        full_dist = r_min / 2\n",
    "            \n",
    "        names[i] = names[i] + names[j]\n",
    "        names.pop(j)\n",
    "        \n",
    "        L = len(weight_matrix)\n",
    "                \n",
    "        # update i row\n",
    "        for k in range(i + 1, L):\n",
    "            if k != j:\n",
    "                \n",
    "                temp_w = 0\n",
    "                if k < j:\n",
    "                    temp_w = weight_matrix[k][j]\n",
    "                else:\n",
    "                    temp_w = weight_matrix[j][k]\n",
    "                                \n",
    "                weight_matrix[i][k] = (weight_matrix[i][k] * res[i].weight + temp_w * res[j].weight) / (res[i].weight + res[j].weight)\n",
    "        \n",
    "        # update i column\n",
    "        for k in range(0, i):\n",
    "            weight_matrix[k][i] = (weight_matrix[k][i] * res[i].weight + weight_matrix[k][j] * res[j].weight) / (res[i].weight + res[j].weight)\n",
    "        \n",
    "        for k in range(L):\n",
    "            weight_matrix[k].pop(j)\n",
    "        \n",
    "        weight_matrix.pop(j)\n",
    "        \n",
    "        res[i] = w_node(names[i], False, res[i], res[j], full_dist)\n",
    "        res.pop(j)\n",
    "    \n",
    "    print(res[0])\n",
    "\n",
    "def start_test_2(test):\n",
    "    names_test = [i for i in N[test]]\n",
    "    weight_matrix_test = [w.copy() for w in W[test]]\n",
    "\n",
    "    UPGMA(weight_matrix_test, names_test)"
   ]
  },
  {
   "cell_type": "markdown",
   "metadata": {},
   "source": [
    "Test 1."
   ]
  },
  {
   "cell_type": "code",
   "execution_count": 162,
   "metadata": {},
   "outputs": [
    {
     "name": "stdout",
     "output_type": "stream",
     "text": [
      "1\n",
      "(A:7.0,(B:4.0,(C:2.0,D:2.0):2.0):3.0)\n"
     ]
    }
   ],
   "source": [
    "test = int(input()) - 1\n",
    "start_test_2(test)"
   ]
  },
  {
   "cell_type": "markdown",
   "metadata": {},
   "source": [
    "Test 2."
   ]
  },
  {
   "cell_type": "code",
   "execution_count": 163,
   "metadata": {},
   "outputs": [
    {
     "name": "stdout",
     "output_type": "stream",
     "text": [
      "2\n",
      "((((A:2.0,C:2.0):1.0,B:3.0):0.75,(D:2.5,E:2.5):1.25):0.65,F:4.4)\n"
     ]
    }
   ],
   "source": [
    "test = int(input()) - 1\n",
    "start_test_2(test)"
   ]
  },
  {
   "cell_type": "code",
   "execution_count": null,
   "metadata": {},
   "outputs": [],
   "source": []
  }
 ],
 "metadata": {
  "kernelspec": {
   "display_name": "Python 3",
   "language": "python",
   "name": "python3"
  },
  "language_info": {
   "codemirror_mode": {
    "name": "ipython",
    "version": 3
   },
   "file_extension": ".py",
   "mimetype": "text/x-python",
   "name": "python",
   "nbconvert_exporter": "python",
   "pygments_lexer": "ipython3",
   "version": "3.8.6"
  }
 },
 "nbformat": 4,
 "nbformat_minor": 1
}
