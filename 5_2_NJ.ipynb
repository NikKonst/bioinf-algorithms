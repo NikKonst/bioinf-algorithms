{
 "cells": [
  {
   "cell_type": "code",
   "execution_count": 44,
   "metadata": {},
   "outputs": [],
   "source": [
    "W = [\n",
    "    [[0, 16, 16, 10],\n",
    "     [0,  0,  8,  8],\n",
    "     [0,  0,  0,  4],\n",
    "     [0,  0,  0,  0]],\n",
    "    \n",
    "    [[0, 5, 4,  7, 6,  8],\n",
    "     [0, 0, 7, 10, 9, 11],\n",
    "     [0, 0, 0,  7, 6,  8],\n",
    "     [0, 0, 0,  0, 5,  9],\n",
    "     [0, 0, 0,  0, 0,  8],\n",
    "     [0, 0, 0,  0, 0,  0]],\n",
    "]\n",
    "\n",
    "N = [\n",
    "    'ABCD',\n",
    "    'ABCDEF',\n",
    "]"
   ]
  },
  {
   "cell_type": "code",
   "execution_count": 45,
   "metadata": {},
   "outputs": [],
   "source": [
    "class node:\n",
    "    name = ''\n",
    "    final = True\n",
    "    node_dist = 0\n",
    "    child_nodes = []\n",
    "    \n",
    "    def __init__(self, name, final=True, child_node_1=None, child_node_2=None, node_dist_1=0, node_dist_2=0):\n",
    "        self.name = name\n",
    "        self.final = final\n",
    "        \n",
    "        if not final:\n",
    "            child_node_1.node_dist = node_dist_1\n",
    "            child_node_2.node_dist = node_dist_2\n",
    "            self.child_nodes = [child_node_1, child_node_2]\n",
    "    \n",
    "    def __str__(self):\n",
    "        if self.final:\n",
    "            return self.name + ':' + str(round(self.node_dist, 2))\n",
    "        else:\n",
    "            str_child_1 = str(self.child_nodes[0])\n",
    "            str_child_2 = str(self.child_nodes[1])\n",
    "            if self.node_dist != 0:\n",
    "                return '(' + str_child_1 + ',' + str_child_2 + '):' + str(round(self.node_dist, 2))\n",
    "            else:\n",
    "                return '(' + str_child_1 + ',' + str_child_2 + ')'\n",
    "\n",
    "def dist(WM, for_i, except_j):\n",
    "    L = len(WM)\n",
    "    \n",
    "    dist = 0\n",
    "    \n",
    "    for i in range(for_i):\n",
    "        dist += WM[i][for_i]\n",
    "    \n",
    "    for j in range(for_i + 1, L):\n",
    "        if EXCLUDE_B:\n",
    "            if j != except_j:\n",
    "                dist += WM[for_i][j]\n",
    "        else:\n",
    "            dist += WM[for_i][j]\n",
    "    \n",
    "    return dist / (L - 2)\n",
    "            \n",
    "def find_min(WM):\n",
    "    L = len(WM)\n",
    "    \n",
    "    cur_i = 0\n",
    "    cur_j = 1\n",
    "    dist1 = dist(WM, cur_i, cur_j)\n",
    "    dist2 = dist(WM, cur_j, cur_i)\n",
    "    cur_min = WM[cur_i][cur_j] - dist1 - dist2\n",
    "\n",
    "    for i in range(L):\n",
    "        for j in range(i + 1, L):\n",
    "            dist1 = dist(WM, i, j)\n",
    "            dist2 = dist(WM, j, i)\n",
    "            new_dist = WM[i][j] - dist1 - dist2\n",
    "            \n",
    "            if new_dist < cur_min:\n",
    "                cur_i = i\n",
    "                cur_j = j\n",
    "                cur_min = new_dist\n",
    "    return cur_i, cur_j\n",
    "\n",
    "def NJ(weight_matrix, names):\n",
    "    res = [node(n) for n in names]\n",
    "\n",
    "    while len(weight_matrix) > 2:\n",
    "        i, j = find_min(weight_matrix)\n",
    "\n",
    "#         full_dist = r_min / 2\n",
    "        node_dist_1 = 0.5 * (weight_matrix[i][j] + dist(weight_matrix, i, j) - dist(weight_matrix, j, i))\n",
    "        node_dist_2 = 0.5 * (weight_matrix[i][j] + dist(weight_matrix, j, i) - dist(weight_matrix, i, j))\n",
    "            \n",
    "        names[i] = names[i] + names[j]\n",
    "        names.pop(j)\n",
    "        \n",
    "        res[i] = node(names[i], False, res[i], res[j], node_dist_1, node_dist_2)\n",
    "        res.pop(j)\n",
    "        \n",
    "        L = len(weight_matrix)\n",
    "        \n",
    "        D_a_b = weight_matrix[i][j]\n",
    "        \n",
    "        \n",
    "        # update i row\n",
    "        for k in range(i + 1, L):\n",
    "            if k != j:\n",
    "                temp_w = 0\n",
    "                if k < j:\n",
    "                    temp_w = weight_matrix[k][j]\n",
    "                else:\n",
    "                    temp_w = weight_matrix[j][k]\n",
    "                                \n",
    "                weight_matrix[i][k] = (weight_matrix[i][k] + temp_w - D_a_b) / 2\n",
    "        \n",
    "        # update i column\n",
    "        for k in range(0, i):\n",
    "            weight_matrix[k][i] = (weight_matrix[k][i] + weight_matrix[k][j] - D_a_b) / 2\n",
    "        \n",
    "        for k in range(L):\n",
    "            weight_matrix[k].pop(j)\n",
    "        \n",
    "        weight_matrix.pop(j)\n",
    "    \n",
    "    res[1].node_dist = weight_matrix[0][-1]\n",
    "    print(res[0])\n",
    "    print(res[1])\n",
    "\n",
    "def start_test(test):\n",
    "    names_test = [i for i in N[test]]\n",
    "    weight_matrix_test = [w.copy() for w in W[test]]\n",
    "\n",
    "    NJ(weight_matrix_test, names_test)"
   ]
  },
  {
   "cell_type": "markdown",
   "metadata": {},
   "source": [
    "В конспекте лекции указано, что среднее расстояние от A до всех остальных, может считаться включая B и не включая его. Посольку результаты получаются разные и результаи не включая В в чем-то ближе к истинному дереву, я добавил опцию EXCLUDE_B, в зависимости от которой В исключается при расчете расстояния (EXCLUDE_B = True) или включается (EXCLUDE_B = False)."
   ]
  },
  {
   "cell_type": "markdown",
   "metadata": {},
   "source": [
    "Также в задании требуется вывести дерево в формате Newick, однако так как в результате NJ алгоритма дерево получается неукорененным, сделать это для всего дерева невозможно, результаты выводятся для двух вершин на двух строчках, расстояние между ними показывается после двоеточия на второй строчке (присваивается второй выведенной вершине)."
   ]
  },
  {
   "cell_type": "markdown",
   "metadata": {},
   "source": [
    "Test 1."
   ]
  },
  {
   "cell_type": "code",
   "execution_count": 46,
   "metadata": {},
   "outputs": [
    {
     "name": "stdout",
     "output_type": "stream",
     "text": [
      "1\n",
      "A:0\n",
      "(B:2.5,(C:2.5,D:1.5):3.5):10.5\n"
     ]
    }
   ],
   "source": [
    "test = int(input()) - 1\n",
    "EXCLUDE_B = True\n",
    "start_test(test)"
   ]
  },
  {
   "cell_type": "code",
   "execution_count": 47,
   "metadata": {},
   "outputs": [
    {
     "name": "stdout",
     "output_type": "stream",
     "text": [
      "1\n",
      "((A:10.0,D:0.0):2.0,B:5.0)\n",
      "C:3.0\n"
     ]
    }
   ],
   "source": [
    "test = int(input()) - 1\n",
    "EXCLUDE_B = False\n",
    "start_test(test)"
   ]
  },
  {
   "cell_type": "markdown",
   "metadata": {},
   "source": [
    "Test 2."
   ]
  },
  {
   "cell_type": "code",
   "execution_count": 48,
   "metadata": {},
   "outputs": [
    {
     "name": "stdout",
     "output_type": "stream",
     "text": [
      "2\n",
      "(((A:0.38,B:4.62):0.5,C:2.5),(D:1.75,E:3.25):2.0)\n",
      "F:5.0\n"
     ]
    }
   ],
   "source": [
    "test = int(input()) - 1\n",
    "EXCLUDE_B = True\n",
    "start_test(test)"
   ]
  },
  {
   "cell_type": "code",
   "execution_count": 49,
   "metadata": {},
   "outputs": [
    {
     "name": "stdout",
     "output_type": "stream",
     "text": [
      "2\n",
      "((((A:1.0,B:4.0):1.0,C:2.0):1.0,F:5.0):1.0,D:3.0)\n",
      "E:2.0\n"
     ]
    }
   ],
   "source": [
    "test = int(input()) - 1\n",
    "EXCLUDE_B = False\n",
    "start_test(test)"
   ]
  },
  {
   "cell_type": "code",
   "execution_count": null,
   "metadata": {},
   "outputs": [],
   "source": []
  }
 ],
 "metadata": {
  "kernelspec": {
   "display_name": "Python 3",
   "language": "python",
   "name": "python3"
  },
  "language_info": {
   "codemirror_mode": {
    "name": "ipython",
    "version": 3
   },
   "file_extension": ".py",
   "mimetype": "text/x-python",
   "name": "python",
   "nbconvert_exporter": "python",
   "pygments_lexer": "ipython3",
   "version": "3.8.6"
  }
 },
 "nbformat": 4,
 "nbformat_minor": 1
}
