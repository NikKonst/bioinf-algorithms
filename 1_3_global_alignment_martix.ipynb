{
 "cells": [
  {
   "cell_type": "code",
   "execution_count": 26,
   "metadata": {},
   "outputs": [
    {
     "name": "stdout",
     "output_type": "stream",
     "text": [
      "abc_bcbcbab abcabcbab__\n"
     ]
    }
   ],
   "source": [
    "seq1, seq2 = 'abcbcbcbab abcabcbab'.split()\n",
    "\n",
    "# match = 1\n",
    "# gap = -1\n",
    "# miss = -1\n",
    "ind = {'a': 0,\n",
    "       'b': 1,\n",
    "       'c': 2,\n",
    "       '_': 3,}\n",
    "W = [[ 3, -3, -4, -1],\n",
    "     [-3,  5, -2, -1],\n",
    "     [-4, -2,  5, -1],\n",
    "     [-1, -1, -1,  1],]\n",
    "\n",
    "def align(seq1, seq1, W, )\n",
    "    n = len(seq1)\n",
    "    m = len(seq2)\n",
    "\n",
    "    M = [[0 for _ in range(n + 1)] for _ in range(m + 1)]\n",
    "\n",
    "    M[0] = [-i for i in range(n + 1)]\n",
    "\n",
    "    for j in range(m + 1):\n",
    "        M[j][0] = -j\n",
    "\n",
    "    for i in range(1, m + 1):  # seq2\n",
    "        for j in range(1, n + 1):  # seq1        \n",
    "\n",
    "            s1 = M[i-1][j-1] + W[ind[seq2[i - 1]]][ind[seq1[j - 1]]]\n",
    "            s2 = M[i-1][j] + W[ind[seq2[i - 1]]][ind['_']]\n",
    "            s3 = M[i][j-1] + W[ind['_']][ind[seq1[j - 1]]]\n",
    "\n",
    "            s = max(max(s1, s2), s3)\n",
    "            M[i][j] = s\n",
    "\n",
    "    seq_new1 = ''\n",
    "    seq_new2 = ''\n",
    "\n",
    "    cur_i = m\n",
    "    cur_j = n\n",
    "\n",
    "    while cur_i > 0 or cur_j > 0:\n",
    "        if M[cur_i - 1][cur_j - 1] >= M[cur_i][cur_j - 1] and M[cur_i - 1][cur_j - 1] >= M[cur_i - 1][cur_j]:\n",
    "            seq_new1 = seq1[cur_j - 1] + seq_new1\n",
    "            seq_new2 = seq2[cur_i - 1] + seq_new2\n",
    "            cur_i = cur_i - 1\n",
    "            cur_j = cur_j - 1\n",
    "        elif M[cur_i][cur_j - 1] > M[cur_i - 1][cur_j - 1] and M[cur_i][cur_j - 1] > M[cur_i - 1][cur_j]:\n",
    "            seq_new1 = seq1[cur_j - 1] + seq_new1\n",
    "            seq_new2 = '_' + seq_new2\n",
    "            cur_j = cur_j - 1\n",
    "        elif M[cur_i - 1][cur_j] > M[cur_i - 1][cur_j - 1] and M[cur_i - 1][cur_j] > M[cur_i][cur_j - 1]:\n",
    "            seq_new1 = '_' + seq_new1\n",
    "            seq_new2 = seq2[cur_i - 1] + seq_new2\n",
    "            cur_i = cur_i - 1\n",
    "\n",
    "    print(seq_new1, seq_new2)"
   ]
  },
  {
   "cell_type": "code",
   "execution_count": 27,
   "metadata": {},
   "outputs": [
    {
     "data": {
      "text/plain": [
       "[[0, -1, -2, -3, -4, -5, -6, -7, -8, -9, -10],\n",
       " [-1, 3, 2, 1, 0, -1, -2, -3, -4, -5, -6],\n",
       " [-2, 2, 8, 7, 6, 5, 4, 3, 2, 1, 0],\n",
       " [-3, 1, 7, 13, 12, 11, 10, 9, 8, 7, 6],\n",
       " [-4, 0, 6, 12, 11, 10, 9, 8, 7, 11, 10],\n",
       " [-5, -1, 5, 11, 17, 16, 15, 14, 13, 12, 16],\n",
       " [-6, -2, 4, 10, 16, 22, 21, 20, 19, 18, 17],\n",
       " [-7, -3, 3, 9, 15, 21, 27, 26, 25, 24, 23],\n",
       " [-8, -4, 2, 8, 14, 20, 26, 25, 24, 28, 27],\n",
       " [-9, -5, 1, 7, 13, 19, 25, 24, 30, 29, 33]]"
      ]
     },
     "execution_count": 27,
     "metadata": {},
     "output_type": "execute_result"
    }
   ],
   "source": [
    "M"
   ]
  },
  {
   "cell_type": "code",
   "execution_count": null,
   "outputs": [],
   "source": [
    "abc_bcbcbab\n",
    "abcabcbab__"
   ],
   "metadata": {
    "collapsed": false,
    "pycharm": {
     "name": "#%%\n"
    }
   }
  },
  {
   "cell_type": "code",
   "execution_count": null,
   "metadata": {},
   "outputs": [],
   "source": [
    "abc_bcbcbab\n",
    "abcabcbab__"
   ]
  }
 ],
 "metadata": {
  "kernelspec": {
   "display_name": "Python 3",
   "language": "python",
   "name": "python3"
  },
  "language_info": {
   "codemirror_mode": {
    "name": "ipython",
    "version": 3
   },
   "file_extension": ".py",
   "mimetype": "text/x-python",
   "name": "python",
   "nbconvert_exporter": "python",
   "pygments_lexer": "ipython3",
   "version": "3.8.5"
  }
 },
 "nbformat": 4,
 "nbformat_minor": 1
}