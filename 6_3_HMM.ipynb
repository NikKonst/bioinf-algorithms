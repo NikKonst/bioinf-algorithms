{
 "cells": [
  {
   "cell_type": "markdown",
   "metadata": {},
   "source": [
    "# Витерби"
   ]
  },
  {
   "cell_type": "code",
   "execution_count": 200,
   "metadata": {},
   "outputs": [],
   "source": [
    "import numpy as np\n",
    "\n",
    "def viterbi(P, A, B, O):\n",
    "    # init\n",
    "    d = []\n",
    "    d_cur = []\n",
    "    for j in range(len(P)):\n",
    "        d_cur.append(P[j] * B[j][O[0]])\n",
    "    d.append(d_cur)\n",
    "    \n",
    "#     print(d)\n",
    "#     print('---d')\n",
    "    \n",
    "    r = []\n",
    "    \n",
    "    for t in range(1, len(O)):\n",
    "        d_cur = []\n",
    "        r_cur = []\n",
    "        for i in range(len(A)):\n",
    "            d_max = []\n",
    "            for j in range(len(A[i])):\n",
    "#                 print(d[t - 1][j], '*', A[i][j], '*', B[i][O[t]])\n",
    "                d_max.append(d[t - 1][j] * A[i][j] * B[i][O[t]])\n",
    "#             print(d_max)\n",
    "            d_cur.append(max(d_max))\n",
    "            r_cur.append(np.argmax(d_max))\n",
    "#         print('---')\n",
    "        d.append(d_cur)\n",
    "        r.append(r_cur)\n",
    "        \n",
    "#     print('D:----')\n",
    "#     print(d)\n",
    "#     print('R:----')\n",
    "#     print(r)\n",
    "    \n",
    "    res = []\n",
    "    \n",
    "    new_res = np.argmax(d[-1])\n",
    "    res = [new_res] + res\n",
    "    \n",
    "    for i in range(len(d) - 1, 0, -1):\n",
    "#         print(i)\n",
    "        new_res = r[i - 1][new_res]\n",
    "        res = [new_res] + res\n",
    "    return res"
   ]
  },
  {
   "cell_type": "code",
   "execution_count": 201,
   "metadata": {},
   "outputs": [],
   "source": [
    "p = [0.5, 0.5]\n",
    "\n",
    "O_str = 'ОРОРОРООРРРРРРРРРРОООООООО'\n",
    "\n",
    "O_t = {'О': 0, 'Р': 1}\n",
    "\n",
    "O_s = [O_t[i] for i in O_str]\n",
    "\n",
    "# Test 1\n",
    "\n",
    "A1 = [[0.8, 0.2],\n",
    "      [0.2, 0.8]]\n",
    "\n",
    "B1 = [[0.5, 0.5],\n",
    "      [0.1, 0.9]]\n",
    "\n",
    "# Test 2\n",
    "\n",
    "A2 = [[0.5, 0.5],\n",
    "      [0.5, 0.5]]\n",
    "\n",
    "B2 = [[0.5, 0.5],\n",
    "      [0.51, 0.49]]"
   ]
  },
  {
   "cell_type": "markdown",
   "metadata": {},
   "source": [
    "Test 1"
   ]
  },
  {
   "cell_type": "code",
   "execution_count": 202,
   "metadata": {},
   "outputs": [
    {
     "data": {
      "text/plain": [
       "[0, 0, 0, 0, 0, 0, 0, 0, 1, 1, 1, 1, 1, 1, 1, 1, 1, 1, 0, 0, 0, 0, 0, 0, 0, 0]"
      ]
     },
     "execution_count": 202,
     "metadata": {},
     "output_type": "execute_result"
    }
   ],
   "source": [
    "viterbi(p, A1, B1, O_s)"
   ]
  },
  {
   "cell_type": "markdown",
   "metadata": {},
   "source": [
    "Test 2"
   ]
  },
  {
   "cell_type": "code",
   "execution_count": 203,
   "metadata": {},
   "outputs": [
    {
     "data": {
      "text/plain": [
       "[1, 0, 1, 0, 1, 0, 1, 1, 0, 0, 0, 0, 0, 0, 0, 0, 0, 0, 1, 1, 1, 1, 1, 1, 1, 1]"
      ]
     },
     "execution_count": 203,
     "metadata": {},
     "output_type": "execute_result"
    }
   ],
   "source": [
    "viterbi(p, A2, B2, O_s)"
   ]
  },
  {
   "cell_type": "markdown",
   "metadata": {},
   "source": [
    "# Forward-Backward"
   ]
  },
  {
   "cell_type": "code",
   "execution_count": 204,
   "metadata": {},
   "outputs": [],
   "source": [
    "def forward_backward(P, A, B, O):\n",
    "    # init\n",
    "    d = []\n",
    "    d_cur = []\n",
    "    for j in range(len(P)):\n",
    "        d_cur.append(P[j] * B[j][O[0]])\n",
    "    d.append(d_cur)\n",
    "    \n",
    "    for t in range(1, len(O)):\n",
    "        d_cur = []\n",
    "        for i in range(len(A)):\n",
    "            d_max = []\n",
    "            for j in range(len(A[i])):\n",
    "                d_max.append(d[t - 1][j] * A[i][j] * B[i][O[t]])\n",
    "            d_cur.append(sum(d_max))\n",
    "        d.append(d_cur)\n",
    "        \n",
    "    beta = [[0.0, 0.0] for _ in range(len(O))]\n",
    "    beta[-1] = [1.0, 1.0]\n",
    "    \n",
    "    for t in range(len(O) - 2, -1, -1):\n",
    "        beta_cur = []\n",
    "        for i in range(len(A)):\n",
    "            beta_sum = []\n",
    "            for j in range(len(A[i])):\n",
    "                beta_sum.append(beta[t + 1][j] * A[i][j] * B[j][O[t + 1]])\n",
    "            beta_cur.append(sum(beta_sum))\n",
    "        beta[t] = beta_cur\n",
    "    \n",
    "    alpha_T = sum(d[-1])\n",
    "    \n",
    "    res = []\n",
    "    \n",
    "    for i in range(len(d)):\n",
    "        r = []\n",
    "        for j in range(len(d[i])):\n",
    "            r.append((d[i][j] * beta[i][j]) / alpha_T)\n",
    "        res.append(r)\n",
    "    \n",
    "    return res"
   ]
  },
  {
   "cell_type": "markdown",
   "metadata": {},
   "source": [
    "Test 1"
   ]
  },
  {
   "cell_type": "code",
   "execution_count": 205,
   "metadata": {},
   "outputs": [
    {
     "data": {
      "text/plain": [
       "[[0.859561726310333, 0.1404382736896674],\n",
       " [0.7660955503020386, 0.23390444969796179],\n",
       " [0.8783158967734027, 0.12168410322659773],\n",
       " [0.7793940486722762, 0.22060595132772412],\n",
       " [0.8868679762972211, 0.11313202370277944],\n",
       " [0.7951237516571705, 0.20487624834282991],\n",
       " [0.9106142202357187, 0.08938577976428166],\n",
       " [0.8599955852406632, 0.1400044147593374],\n",
       " [0.4569912698901984, 0.5430087301098021],\n",
       " [0.27318414354264553, 0.7268158564573548],\n",
       " [0.1898484179201776, 0.8101515820798227],\n",
       " [0.15315538728739317, 0.8468446127126072],\n",
       " [0.1394040718577827, 0.8605959281422176],\n",
       " [0.13971214047977537, 0.8602878595202249],\n",
       " [0.1542785826632807, 0.8457214173367197],\n",
       " [0.1925122410631259, 0.8074877589368745],\n",
       " [0.27910922688276635, 0.7208907731172339],\n",
       " [0.47000477837014754, 0.5299952216298526],\n",
       " [0.8885032813748966, 0.11149671862510348],\n",
       " [0.9646188152515133, 0.035381184748487046],\n",
       " [0.9784565446659454, 0.02154345533405468],\n",
       " [0.9809393138633049, 0.019060686136695322],\n",
       " [0.9812037134898736, 0.01879628651012652],\n",
       " [0.980222734171425, 0.019777265828575096],\n",
       " [0.9743863720160683, 0.02561362798393183],\n",
       " [0.9422168142920906, 0.057783185707909454]]"
      ]
     },
     "execution_count": 205,
     "metadata": {},
     "output_type": "execute_result"
    }
   ],
   "source": [
    "forward_backward(p, A1, B1, O_s)"
   ]
  },
  {
   "cell_type": "markdown",
   "metadata": {},
   "source": [
    "Test 2"
   ]
  },
  {
   "cell_type": "code",
   "execution_count": 206,
   "metadata": {},
   "outputs": [
    {
     "data": {
      "text/plain": [
       "[[0.4950495049504949, 0.5049504950495048],\n",
       " [0.5050505050505049, 0.4949494949494948],\n",
       " [0.49504950495049493, 0.5049504950495048],\n",
       " [0.5050505050505049, 0.4949494949494948],\n",
       " [0.4950495049504949, 0.5049504950495047],\n",
       " [0.505050505050505, 0.4949494949494948],\n",
       " [0.4950495049504949, 0.5049504950495048],\n",
       " [0.4950495049504948, 0.5049504950495048],\n",
       " [0.505050505050505, 0.49494949494949486],\n",
       " [0.5050505050505049, 0.4949494949494949],\n",
       " [0.505050505050505, 0.49494949494949486],\n",
       " [0.505050505050505, 0.4949494949494949],\n",
       " [0.5050505050505051, 0.49494949494949503],\n",
       " [0.5050505050505051, 0.494949494949495],\n",
       " [0.5050505050505051, 0.49494949494949503],\n",
       " [0.5050505050505051, 0.494949494949495],\n",
       " [0.505050505050505, 0.494949494949495],\n",
       " [0.505050505050505, 0.4949494949494949],\n",
       " [0.49504950495049505, 0.504950495049505],\n",
       " [0.495049504950495, 0.5049504950495048],\n",
       " [0.49504950495049493, 0.5049504950495048],\n",
       " [0.495049504950495, 0.504950495049505],\n",
       " [0.49504950495049505, 0.504950495049505],\n",
       " [0.495049504950495, 0.504950495049505],\n",
       " [0.495049504950495, 0.504950495049505],\n",
       " [0.495049504950495, 0.504950495049505]]"
      ]
     },
     "execution_count": 206,
     "metadata": {},
     "output_type": "execute_result"
    }
   ],
   "source": [
    "forward_backward(p, A2, B2, O_s)"
   ]
  },
  {
   "cell_type": "code",
   "execution_count": null,
   "metadata": {},
   "outputs": [],
   "source": []
  }
 ],
 "metadata": {
  "kernelspec": {
   "display_name": "Python 3",
   "language": "python",
   "name": "python3"
  },
  "language_info": {
   "codemirror_mode": {
    "name": "ipython",
    "version": 3
   },
   "file_extension": ".py",
   "mimetype": "text/x-python",
   "name": "python",
   "nbconvert_exporter": "python",
   "pygments_lexer": "ipython3",
   "version": "3.8.6"
  }
 },
 "nbformat": 4,
 "nbformat_minor": 1
}
