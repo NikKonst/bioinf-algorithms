{
 "cells": [
  {
   "cell_type": "code",
   "execution_count": 130,
   "metadata": {},
   "outputs": [
    {
     "name": "stdout",
     "output_type": "stream",
     "text": [
      "GGACC\n",
      "1\n"
     ]
    }
   ],
   "source": [
    "rna = input()\n",
    "\n",
    "min_len = 3\n",
    "\n",
    "n = len(rna)\n",
    "\n",
    "M = [[0 for _ in range(n)] for _ in range(n)]\n",
    "\n",
    "start = 4\n",
    "\n",
    "pairs = {\n",
    "    'A': 'U',\n",
    "    'U': 'A',\n",
    "    'G': 'C',\n",
    "    'C': 'G'\n",
    "}\n",
    "\n",
    "for j in range(start, n):\n",
    "    for i in range(j - min_len - 1, -1, -1):\n",
    "        s1 = M[i + 1][j]\n",
    "        s2 = M[i][j - 1]\n",
    "        s3 = 0\n",
    "        if pairs[rna[i]] == rna[j]:\n",
    "            s3 = M[i + 1][j - 1] + 1\n",
    "        s4 = 0\n",
    "        \n",
    "        for k in range(i, j):\n",
    "            s_t = M[i][k] + M[k + 1][j]\n",
    "            if s_t > s4:\n",
    "                s4 = s_t\n",
    "        \n",
    "        M[i][j] = max(max(max(s1, s2), s3), s4)\n",
    "\n",
    "i = 0\n",
    "j = n - 1\n",
    "\n",
    "is_p = False\n",
    "res = []\n",
    "\n",
    "while (i < j):\n",
    "    new_i = 0\n",
    "    new_j = 0\n",
    "    new_is_p = False\n",
    "    \n",
    "    if M[i + 1][j - 1] >= M[i + 1][j] and M[i + 1][j - 1] >= M[i][j - 1]:\n",
    "        new_i = i + 1\n",
    "        new_j = j - 1\n",
    "        new_is_p = True\n",
    "    elif M[i][j - 1] >= M[i + 1][j - 1] and M[i][j - 1] >= M[i + 1][j]:\n",
    "        new_i = i\n",
    "        new_j = j - 1\n",
    "    elif M[i + 1][j] >= M[i + 1][j - 1] and M[i + 1][j] >= M[i][j - 1]:\n",
    "        new_i = i + 1\n",
    "        new_j = j\n",
    "    \n",
    "    if new_is_p and is_p:\n",
    "        res[-1][0][1] = new_i\n",
    "        res[-1][1][0] = new_j\n",
    "    elif new_is_p and not is_p:\n",
    "        res.append([[i, new_i], [new_j, j]])\n",
    "    \n",
    "    i = new_i\n",
    "    j = new_j\n",
    "    is_p = new_is_p\n",
    "\n",
    "# print(res)\n",
    "# print(max(map(max, M)))\n",
    "print(M[0][n-1])"
   ]
  },
  {
   "cell_type": "code",
   "execution_count": null,
   "metadata": {},
   "outputs": [],
   "source": []
  },
  {
   "cell_type": "code",
   "execution_count": null,
   "metadata": {},
   "outputs": [],
   "source": []
  }
 ],
 "metadata": {
  "kernelspec": {
   "display_name": "Python 3",
   "language": "python",
   "name": "python3"
  },
  "language_info": {
   "codemirror_mode": {
    "name": "ipython",
    "version": 3
   },
   "file_extension": ".py",
   "mimetype": "text/x-python",
   "name": "python",
   "nbconvert_exporter": "python",
   "pygments_lexer": "ipython3",
   "version": "3.8.5"
  }
 },
 "nbformat": 4,
 "nbformat_minor": 1
}
